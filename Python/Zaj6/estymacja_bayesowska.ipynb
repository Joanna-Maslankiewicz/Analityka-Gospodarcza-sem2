{
 "cells": [
  {
   "cell_type": "code",
   "execution_count": 20,
   "metadata": {},
   "outputs": [],
   "source": [
    "import pandas as pd\n",
    "import numpy as np\n",
    "import os\n",
    "import matplotlib.pyplot as plt"
   ]
  },
  {
   "cell_type": "markdown",
   "metadata": {},
   "source": [
    "## Wczytanie danych"
   ]
  },
  {
   "cell_type": "code",
   "execution_count": 12,
   "metadata": {},
   "outputs": [
    {
     "name": "stdout",
     "output_type": "stream",
     "text": [
      "c:\\Users\\s-A009-27\\Downloads\\Zaj6\n",
      "c:\\Users\\s-A009-27\\Downloads\\Zaj6\\apf_data.xlsx\n"
     ]
    }
   ],
   "source": [
    "sciezka = os.getcwd()\n",
    "plik = os.path.join(sciezka,'apf_data.xlsx')\n",
    "print(sciezka)\n",
    "print(plik)"
   ]
  },
  {
   "cell_type": "code",
   "execution_count": 13,
   "metadata": {},
   "outputs": [
    {
     "data": {
      "text/html": [
       "<div>\n",
       "<style scoped>\n",
       "    .dataframe tbody tr th:only-of-type {\n",
       "        vertical-align: middle;\n",
       "    }\n",
       "\n",
       "    .dataframe tbody tr th {\n",
       "        vertical-align: top;\n",
       "    }\n",
       "\n",
       "    .dataframe thead th {\n",
       "        text-align: right;\n",
       "    }\n",
       "</style>\n",
       "<table border=\"1\" class=\"dataframe\">\n",
       "  <thead>\n",
       "    <tr style=\"text-align: right;\">\n",
       "      <th></th>\n",
       "      <th></th>\n",
       "      <th>rgdpna</th>\n",
       "      <th>rnna</th>\n",
       "      <th>emp</th>\n",
       "    </tr>\n",
       "    <tr>\n",
       "      <th>countrycode</th>\n",
       "      <th>year</th>\n",
       "      <th></th>\n",
       "      <th></th>\n",
       "      <th></th>\n",
       "    </tr>\n",
       "  </thead>\n",
       "  <tbody>\n",
       "    <tr>\n",
       "      <th rowspan=\"5\" valign=\"top\">ARG</th>\n",
       "      <th>2010</th>\n",
       "      <td>13.759205</td>\n",
       "      <td>14.761623</td>\n",
       "      <td>2.894626</td>\n",
       "    </tr>\n",
       "    <tr>\n",
       "      <th>2011</th>\n",
       "      <td>13.817511</td>\n",
       "      <td>14.801410</td>\n",
       "      <td>2.917123</td>\n",
       "    </tr>\n",
       "    <tr>\n",
       "      <th>2012</th>\n",
       "      <td>13.807194</td>\n",
       "      <td>14.831745</td>\n",
       "      <td>2.933394</td>\n",
       "    </tr>\n",
       "    <tr>\n",
       "      <th>2013</th>\n",
       "      <td>13.830963</td>\n",
       "      <td>14.861097</td>\n",
       "      <td>2.950966</td>\n",
       "    </tr>\n",
       "    <tr>\n",
       "      <th>2014</th>\n",
       "      <td>13.805516</td>\n",
       "      <td>14.884328</td>\n",
       "      <td>2.964399</td>\n",
       "    </tr>\n",
       "  </tbody>\n",
       "</table>\n",
       "</div>"
      ],
      "text/plain": [
       "                     rgdpna       rnna       emp\n",
       "countrycode year                                \n",
       "ARG         2010  13.759205  14.761623  2.894626\n",
       "            2011  13.817511  14.801410  2.917123\n",
       "            2012  13.807194  14.831745  2.933394\n",
       "            2013  13.830963  14.861097  2.950966\n",
       "            2014  13.805516  14.884328  2.964399"
      ]
     },
     "execution_count": 13,
     "metadata": {},
     "output_type": "execute_result"
    }
   ],
   "source": [
    "ramka = pd.read_excel(plik, sheet_name = '1', header=0)\n",
    "ramka.set_index(['countrycode', 'year'], inplace=True)\n",
    "ramka.head()"
   ]
  },
  {
   "cell_type": "code",
   "execution_count": 14,
   "metadata": {},
   "outputs": [
    {
     "name": "stdout",
     "output_type": "stream",
     "text": [
      "rozmiar danych: (330, 3)\n",
      "typ danych: <class 'pandas.core.frame.DataFrame'>\n"
     ]
    }
   ],
   "source": [
    "print('rozmiar danych:', ramka.shape)\n",
    "print('typ danych:', type(ramka))"
   ]
  },
  {
   "cell_type": "markdown",
   "metadata": {},
   "source": [
    "## Tworzenie zmiennych y, X"
   ]
  },
  {
   "cell_type": "code",
   "execution_count": 15,
   "metadata": {},
   "outputs": [
    {
     "name": "stdout",
     "output_type": "stream",
     "text": [
      "y type: <class 'pandas.core.frame.DataFrame'> \n",
      "y size: (330, 1)\n",
      "X rozmiar: (330, 3)\n",
      "X typ: <class 'pandas.core.frame.DataFrame'>\n",
      "                  const       rnna       emp\n",
      "countrycode year                            \n",
      "ARG         2010    1.0  14.761623  2.894626\n",
      "            2011    1.0  14.801410  2.917123\n",
      "            2012    1.0  14.831745  2.933394\n"
     ]
    }
   ],
   "source": [
    "y = ramka[['rgdpna']] # y = ramka.rdpna\n",
    "print('y type:', type(y), '\\ny size:', y.shape)\n",
    "\n",
    "x0 = pd.DataFrame(np.ones(y.shape), index=ramka.index, columns=['const'])\n",
    "X = pd.concat([x0, ramka[['rnna', 'emp']]],axis=1)\n",
    "print('X rozmiar:', X.shape)\n",
    "print('X typ:', type(X))\n",
    "print(X.head(3))"
   ]
  },
  {
   "cell_type": "markdown",
   "metadata": {},
   "source": [
    "## A priori, przygotowanie do a posteriori, dane do symulacji"
   ]
  },
  {
   "cell_type": "code",
   "execution_count": 16,
   "metadata": {},
   "outputs": [
    {
     "name": "stdout",
     "output_type": "stream",
     "text": [
      "(3, 3)\n",
      "(3,)\n",
      "(330, 3)\n"
     ]
    }
   ],
   "source": [
    "(T, k) = X.shape\n",
    "\n",
    "# rozkład a priori dla bet\n",
    "\n",
    "b_pr = np.zeros(k)\n",
    "C_pr = np.eye(k)*0.01\n",
    "#print(C_pr.shape)\n",
    "V_pr = np.linalg.inv(C_pr) # przeliczanie odwrotności macierzy\n",
    "# rozkład a priori dla tau\n",
    "w_pr = 0.01\n",
    "z_pr = 0.01\n",
    "# tu: E(tau)=w_pr/z_pr, V(tau) = w_pr/(z_pr**2)\n",
    "\n",
    "# a posteriori\n",
    "\n",
    "w_tl = (T+2*w_pr)/2 # w tylda\n",
    "Cb_pr = C_pr @ b_pr\n",
    "#print(C_pr.shape)\n",
    "Xnp = X.to_numpy()\n",
    "ynp = y.to_numpy()\n",
    "xtrx = Xnp.T @ Xnp # x transponowane * x\n",
    "xtry = (Xnp.T @ ynp).flatten() # x transponowane * y\n",
    "print(Xnp.shape)\n",
    "\n",
    "# do symulacji\n",
    "\n",
    "spalonych = 200\n",
    "przyjetych = 1000 # można przyjąć 10 000 żeby mieć ładniejsze wyniki\n",
    "iteracje = spalonych + przyjetych\n",
    "\n",
    "losyBet = np.zeros((przyjetych,k))\n",
    "losyTau = np.zeros((przyjetych,1))\n",
    "\n",
    "# ustalam wartosc poczatkowa\n",
    "\n",
    "tau = 1\n",
    "import time\n",
    "poczatek = time.perf_counter()"
   ]
  },
  {
   "cell_type": "markdown",
   "metadata": {},
   "source": [
    "## Próbnik Gibbsa"
   ]
  },
  {
   "cell_type": "code",
   "execution_count": 17,
   "metadata": {},
   "outputs": [
    {
     "name": "stdout",
     "output_type": "stream",
     "text": [
      "[[4.02761120e+00 3.09851416e-01]\n",
      " [5.62829422e-01 2.40294001e-02]\n",
      " [4.68946559e-01 2.47035838e-02]\n",
      " [2.60000593e+01 2.01303047e+00]]\n"
     ]
    }
   ],
   "source": [
    "for i in range(0,iteracje,1):\n",
    "    # losowania z r. normalnego (bet)\n",
    "    cov_b = np.linalg.inv(C_pr + tau * xtrx)\n",
    "    mean_b = cov_b @ (Cb_pr + tau * xtry) # musi być jednowymiarowa tablica typu numpy\n",
    "    b = np.random.multivariate_normal(mean_b,cov_b)\n",
    "    # losowania z r. gamma (tau)\n",
    "    z_tl = 0.5*(2*z_pr + (ynp.flatten() - Xnp @ b).T @ (ynp.flatten() - Xnp @ b)) # z tylda; ynp.flatten() bo y jest dwuwymiarowy a nie jednowymiarowy\n",
    "    tau = np.random.gamma(w_tl)/z_tl\n",
    "    if i >= spalonych:\n",
    "        losyBet[i-spalonych, :] = b\n",
    "        losyTau[i-spalonych] = tau\n",
    "\n",
    "# statystyki z symulacji\n",
    "\n",
    "Bayes_beta = np.c_[losyBet.mean(0), losyBet.std(0)]\n",
    "Bayes_tau = np.c_[losyTau.mean(0), losyTau.std(0)]\n",
    "\n",
    "#np.savetxt('wynikiBayes.csv', np.r_[Bayes_beta, Bayes_tau], delimiter=';')\n",
    "print(np.r_[Bayes_beta, Bayes_tau])"
   ]
  },
  {
   "cell_type": "markdown",
   "metadata": {},
   "source": [
    "## Wykres rozrzutu"
   ]
  },
  {
   "cell_type": "code",
   "execution_count": 21,
   "metadata": {},
   "outputs": [
    {
     "data": {
      "image/png": "[encoded data removed]",
      "text/plain": [
       "<Figure size 640x480 with 1 Axes>"
      ]
     },
     "metadata": {},
     "output_type": "display_data"
    }
   ],
   "source": [
    "h3 = plt.figure()\n",
    "plt.scatter(losyBet[:,1], losyBet[:,2])\n",
    "plt.title('Elastyczności')\n",
    "plt.xlabel('El.kap')\n",
    "plt.ylabel('El.prac')\n",
    "plt.show()"
   ]
  },
  {
   "cell_type": "markdown",
   "metadata": {},
   "source": [
    "## Histogram dla s2"
   ]
  },
  {
   "cell_type": "code",
   "execution_count": 19,
   "metadata": {},
   "outputs": [
    {
     "data": {
      "image/png": "[encoded data removed]",
      "text/plain": [
       "<Figure size 640x480 with 1 Axes>"
      ]
     },
     "metadata": {},
     "output_type": "display_data"
    }
   ],
   "source": [
    "losyS2 = 1/losyTau\n",
    "h4 = plt.figure()\n",
    "plt.hist(losyS2, bins=25)\n",
    "plt.show()\n",
    "h4.savefig('histogram_dla_s2.png')"
   ]
  }
 ],
 "metadata": {
  "kernelspec": {
   "display_name": "Python 3",
   "language": "python",
   "name": "python3"
  },
  "language_info": {
   "codemirror_mode": {
    "name": "ipython",
    "version": 3
   },
   "file_extension": ".py",
   "mimetype": "text/x-python",
   "name": "python",
   "nbconvert_exporter": "python",
   "pygments_lexer": "ipython3",
   "version": "3.11.4"
  }
 },
 "nbformat": 4,
 "nbformat_minor": 2
}

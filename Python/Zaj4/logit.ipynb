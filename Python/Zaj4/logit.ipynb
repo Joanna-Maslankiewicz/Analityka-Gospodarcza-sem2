{
 "cells": [
  {
   "cell_type": "markdown",
   "metadata": {},
   "source": [
    "# Model logitowy\n",
    "\n",
    "(Estymacja regresji logistycznej)\n",
    "\n",
    "#### Dane: \n",
    "- choroby serca \n",
    "- z Kaggle\n",
    "\n",
    "#### Zmienna objaśniana: \n",
    "- CHD - Congenital Heart Disease/Defect\n",
    "- TenYearCHD - CHD w ciągu 10 lat"
   ]
  },
  {
   "cell_type": "code",
   "execution_count": 1,
   "metadata": {},
   "outputs": [],
   "source": [
    "import pandas as pd\n",
    "import numpy as np\n",
    "import statsmodels.api as sm\n",
    "import matplotlib.pyplot as plt\n",
    "import seaborn as sb\n",
    "import os\n",
    "import progressbar\n",
    "# py -m pip install progressbar2\n",
    "# py -m pip install openpyxl\n",
    "# py -m pip install statsmodels\n",
    "# py -m pip install seaborn\n",
    "import openpyxl as xl"
   ]
  },
  {
   "cell_type": "code",
   "execution_count": 4,
   "metadata": {},
   "outputs": [
    {
     "name": "stdout",
     "output_type": "stream",
     "text": [
      "<class 'pandas.core.frame.DataFrame'>\n",
      "RangeIndex: 4238 entries, 0 to 4237\n",
      "Data columns (total 16 columns):\n",
      " #   Column           Non-Null Count  Dtype  \n",
      "---  ------           --------------  -----  \n",
      " 0   male             4238 non-null   int64  \n",
      " 1   age              4238 non-null   int64  \n",
      " 2   education        4133 non-null   float64\n",
      " 3   currentSmoker    4238 non-null   int64  \n",
      " 4   cigsPerDay       4209 non-null   float64\n",
      " 5   BPMeds           4185 non-null   float64\n",
      " 6   prevalentStroke  4238 non-null   int64  \n",
      " 7   prevalentHyp     4238 non-null   int64  \n",
      " 8   diabetes         4238 non-null   int64  \n",
      " 9   totChol          4188 non-null   float64\n",
      " 10  sysBP            4238 non-null   float64\n",
      " 11  diaBP            4238 non-null   float64\n",
      " 12  BMI              4219 non-null   float64\n",
      " 13  heartRate        4237 non-null   float64\n",
      " 14  glucose          3850 non-null   float64\n",
      " 15  Dependent_CHD    4238 non-null   int64  \n",
      "dtypes: float64(9), int64(7)\n",
      "memory usage: 529.9 KB\n"
     ]
    }
   ],
   "source": [
    "### wczytanie danych\n",
    "\n",
    "mydata = pd.read_csv('framingham.csv')\n",
    "\n",
    "# zmieniamy nazwę zmiennej objaśnianej z 'TenYearCHD' na 'Dependent_CHD' (jest to ostatnia zmienna w tym zbiorze danych)\n",
    "mydata.rename(columns = {'TenYearCHD':'Dependent_CHD'}, inplace = True)\n",
    "mydata.info()\n"
   ]
  },
  {
   "cell_type": "markdown",
   "metadata": {},
   "source": [
    "### Pozbycie się missing values"
   ]
  },
  {
   "cell_type": "code",
   "execution_count": 12,
   "metadata": {},
   "outputs": [
    {
     "name": "stdout",
     "output_type": "stream",
     "text": [
      "Liczba rekordów częściowo pustych: 582\n",
      "<class 'pandas.core.frame.DataFrame'>\n",
      "Index: 3656 entries, 0 to 4237\n",
      "Data columns (total 16 columns):\n",
      " #   Column           Non-Null Count  Dtype  \n",
      "---  ------           --------------  -----  \n",
      " 0   male             3656 non-null   int64  \n",
      " 1   age              3656 non-null   int64  \n",
      " 2   education        3656 non-null   float64\n",
      " 3   currentSmoker    3656 non-null   int64  \n",
      " 4   cigsPerDay       3656 non-null   float64\n",
      " 5   BPMeds           3656 non-null   float64\n",
      " 6   prevalentStroke  3656 non-null   int64  \n",
      " 7   prevalentHyp     3656 non-null   int64  \n",
      " 8   diabetes         3656 non-null   int64  \n",
      " 9   totChol          3656 non-null   float64\n",
      " 10  sysBP            3656 non-null   float64\n",
      " 11  diaBP            3656 non-null   float64\n",
      " 12  BMI              3656 non-null   float64\n",
      " 13  heartRate        3656 non-null   float64\n",
      " 14  glucose          3656 non-null   float64\n",
      " 15  Dependent_CHD    3656 non-null   int64  \n",
      "dtypes: float64(9), int64(7)\n",
      "memory usage: 485.6 KB\n"
     ]
    }
   ],
   "source": [
    "mydata.isnull().sum().sort_values(ascending = False)\n",
    "\n",
    "### usuwamy rekordy w pełni puste\n",
    "mydata.dropna(how = 'all', inplace = True)\n",
    "mydata.isnull().sum().sort_values(ascending = False)\n",
    "# wniosek --> nie ma pustych rekordów, wszystkie są przynajmniej częściowo pełne\n",
    "\n",
    "### usuwamy niepełne rekordy ze zbioru:\n",
    "\n",
    "# 1) lokalizujemy indeksy takich rekordów\n",
    "ids_with_nan = mydata[mydata.isna().any(axis = 1)]\n",
    "print('Liczba rekordów częściowo pustych:', ids_with_nan.shape[0])\n",
    "\n",
    "# 2) usuwamy takie rekordy\n",
    "mydata_f = mydata.dropna()\n",
    "mydata_f.info()"
   ]
  },
  {
   "cell_type": "markdown",
   "metadata": {},
   "source": [
    "### Transformacja zmiennej BMI\n",
    "wartości optymalne BMI to: 18.5 - 24.9"
   ]
  },
  {
   "cell_type": "code",
   "execution_count": null,
   "metadata": {},
   "outputs": [],
   "source": []
  }
 ],
 "metadata": {
  "kernelspec": {
   "display_name": "Python 3",
   "language": "python",
   "name": "python3"
  },
  "language_info": {
   "codemirror_mode": {
    "name": "ipython",
    "version": 3
   },
   "file_extension": ".py",
   "mimetype": "text/x-python",
   "name": "python",
   "nbconvert_exporter": "python",
   "pygments_lexer": "ipython3",
   "version": "3.11.4"
  }
 },
 "nbformat": 4,
 "nbformat_minor": 2
}

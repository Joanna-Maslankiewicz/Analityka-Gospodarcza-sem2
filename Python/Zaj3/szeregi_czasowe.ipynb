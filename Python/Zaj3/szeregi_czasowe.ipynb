{
 "cells": [
  {
   "cell_type": "markdown",
   "metadata": {},
   "source": [
    "# Analiza Szeregów Czasowych"
   ]
  },
  {
   "cell_type": "code",
   "execution_count": 1,
   "metadata": {},
   "outputs": [],
   "source": [
    "import pandas as pd\n",
    "import numpy as np\n",
    "import statsmodels.api as sm\n",
    "import matplotlib.pyplot as plt\n",
    "import seaborn as sb\n",
    "import os\n",
    "# py -m pip install openpyxl\n",
    "# py -m pip install statsmodels\n",
    "# py -m pip install seaborn\n",
    "import openpyxl as xl"
   ]
  },
  {
   "cell_type": "code",
   "execution_count": 10,
   "metadata": {},
   "outputs": [
    {
     "name": "stdout",
     "output_type": "stream",
     "text": [
      "-0.03670386249463468 1.0180538497762497\n",
      "5.3290705182007515e-18 1.0000000000000002\n",
      "(2000, 1) (2000, 1)\n"
     ]
    }
   ],
   "source": [
    "# generowanie danych dla procesu ARIMAX(p, d, q, X)\n",
    "\n",
    "# d - stopień integracji\n",
    "# q - opóźnienie dla procesu średniej ruchomej\n",
    "# X - dodatkowe zmienne objaśniające - więc jest nie tylko egzogeniczna - model dynamiczny\n",
    "# nie bierzemy pod uwagę sezonowości (ale ARIMAX dopuszcza taką opcję gdybyśmy chcieli)\n",
    "\n",
    "T = 2000    # liczba obserwacji na y do wygenerowania\n",
    "x = np.random.normal(1.5, 1, (T,1))     # pierwsza zmienna to wartość oczekiwana, druga to odchylenie standardowe, trzecia to wymiar tablicy która ma być zwrócona - T x 1\n",
    "\n",
    "er = np.random.normal(0, 1, (T,1))   # generowanie błędów\n",
    "print(er.mean(), er.std())\n",
    "er = (er - er.mean()) / er.std()    # poprawa na \"małą\" próbę (standaryzacja) - niby nie jest to mała próba (2000), ale chcemy poprawić charakterystyki szumu, żeby nie miały przełożenia na wyniki\n",
    "print(er.mean(), er.std())\n",
    "\n",
    "y = np.zeros([T,1])\n",
    "y_lag = 2\n",
    "\n",
    "for i in range(0, T, 1):    # ostatnia zmienna to co ile ma skakać iterator, u nas skacze o 1\n",
    "    y[i] = 2 + 0.8 * x[i] + 0.3 * y_lag + er[i]     # 0.3 * y_lag --- opóźnienie, inaczej pamięć procesu; 0.3*... - procest stacjonarny; gdyby było 1*... - proces niestacjonarny\n",
    "    y_lag = y[i]\n",
    "\n",
    "print(x.shape, y.shape)     # wymiary: T x 1, T x 1"
   ]
  }
 ],
 "metadata": {
  "kernelspec": {
   "display_name": "Python 3",
   "language": "python",
   "name": "python3"
  },
  "language_info": {
   "codemirror_mode": {
    "name": "ipython",
    "version": 3
   },
   "file_extension": ".py",
   "mimetype": "text/x-python",
   "name": "python",
   "nbconvert_exporter": "python",
   "pygments_lexer": "ipython3",
   "version": "3.11.4"
  }
 },
 "nbformat": 4,
 "nbformat_minor": 2
}
